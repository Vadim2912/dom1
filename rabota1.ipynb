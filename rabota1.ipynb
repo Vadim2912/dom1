{
 "cells": [
  {
   "cell_type": "code",
   "execution_count": 1,
   "metadata": {},
   "outputs": [
    {
     "data": {
      "text/plain": [
       "False"
      ]
     },
     "execution_count": 1,
     "metadata": {},
     "output_type": "execute_result"
    }
   ],
   "source": [
    "len('long_phrase') > len('short_phrase')"
   ]
  },
  {
   "cell_type": "code",
   "execution_count": 2,
   "metadata": {},
   "outputs": [
    {
     "name": "stdout",
     "output_type": "stream",
     "text": [
      "Введите значение: 34\n",
      "Объем файла равен:      0.000\n"
     ]
    }
   ],
   "source": [
    "tre = float(input(\"Введите значение: \"))\n",
    "print(\"Объем файла равен: %10.3f\" % (tre / 2**20))\n"
   ]
  },
  {
   "cell_type": "code",
   "execution_count": null,
   "metadata": {},
   "outputs": [],
   "source": [
    "month = input('Ввведите месяц ')\n",
    "date = int(input('Ввведите дату '))\n",
    "if month == 'январь':\n",
    "    if 1<date<21: print('Козерог')\n",
    "    elif 21<=date<=31: print('Водолей')\n",
    "elif month == 'февраль':\n",
    "    if 1<date<21: print('Водолей')\n",
    "    elif 21<=date<=29: print('Рыбы')\n",
    "elif month == 'март':\n",
    "    if 1<date<21: print('Рыбы')\n",
    "    elif 21<=date<=31: print('Овен')\n",
    "elif month == 'апрель':\n",
    "    if 1<date<21: print('Овен')\n",
    "    elif 21<=date<=30: print('Телец')\n",
    "elif month == 'май':\n",
    "    if 1<date<21: print('Телец')\n",
    "    elif 21<=date<=31: print('Близнецы')\n",
    "elif month == 'июнь':\n",
    "    if 1<date<22: print('Близнецы')\n",
    "    elif 22<=date<=30: print('Рак')\n",
    "elif month == 'июль':\n",
    "    if 1<date<23: print('Рак')\n",
    "    elif 23<=date<=31: print('Лев')\n",
    "elif month == 'август':\n",
    "    if 1<date<24: print('Лев')\n",
    "    elif 24<=date<=31: print('Дева')\n",
    "elif month == 'сентябрь':\n",
    "    if 1<date<24: print('Дева')\n",
    "    elif 24<=date<=30: print('Весы')\n",
    "elif month == 'октябрь':\n",
    "    if 1<date<23: print('Весы')\n",
    "    elif 24<=date<=30: print('Скорпион')\n",
    "elif month == 'ноябрь':\n",
    "    if 1<date<23: print('Скорпион')\n",
    "    elif 24<=date<=30: print('Стрелец')\n",
    "elif month == 'декабрь':\n",
    "    if 1<date<23: print('Стрелец')\n",
    "    elif 24<=date<=30: print('Козерог')\n",
    "else: print('ошибка ввода')"
   ]
  },
  {
   "cell_type": "code",
   "execution_count": null,
   "metadata": {},
   "outputs": [],
   "source": [
    "payroll = int(input('Заработная плата за месяц '))\n",
    "мortgage = int(input('Сколько процентов уходит на ипотеку '))\n",
    "life = int(input('Сколько процентов уходит на жизнь '))\n",
    "premiums = int(input('Количество премий за год '))\n",
    "print('На ипотеку было потрачено', 12 * ((мortgage * payroll) / 100))\n",
    "print('Было накоплено', (12 * (payroll - ((мortgage * payroll) / 100) - ((life * payroll) / 100))) + ((premiums * payroll) / 2))"
   ]
  },
  {
   "cell_type": "code",
   "execution_count": null,
   "metadata": {},
   "outputs": [],
   "source": []
  },
  {
   "cell_type": "code",
   "execution_count": null,
   "metadata": {},
   "outputs": [],
   "source": []
  },
  {
   "cell_type": "code",
   "execution_count": null,
   "metadata": {},
   "outputs": [],
   "source": []
  }
 ],
 "metadata": {
  "kernelspec": {
   "display_name": "Python 3",
   "language": "python",
   "name": "python3"
  },
  "language_info": {
   "codemirror_mode": {
    "name": "ipython",
    "version": 3
   },
   "file_extension": ".py",
   "mimetype": "text/x-python",
   "name": "python",
   "nbconvert_exporter": "python",
   "pygments_lexer": "ipython3",
   "version": "3.7.3"
  }
 },
 "nbformat": 4,
 "nbformat_minor": 2
}
